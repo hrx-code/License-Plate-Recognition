{
 "cells": [
  {
   "cell_type": "code",
   "execution_count": 7,
   "metadata": {},
   "outputs": [
    {
     "name": "stdout",
     "output_type": "stream",
     "text": [
      "[[[364 223]]\n",
      "\n",
      " [[188 223]]\n",
      "\n",
      " [[185 259]]\n",
      "\n",
      " [[362 258]]]\n",
      "None\n"
     ]
    },
    {
     "ename": "error",
     "evalue": "OpenCV(4.2.0) C:\\projects\\opencv-python\\opencv\\modules\\imgproc\\src\\drawing.cpp:2606: error: (-215:Assertion failed) reader.ptr != NULL in function 'cvDrawContours'\n",
     "output_type": "error",
     "traceback": [
      "\u001b[1;31m---------------------------------------------------------------------------\u001b[0m",
      "\u001b[1;31merror\u001b[0m                                     Traceback (most recent call last)",
      "\u001b[1;32m<ipython-input-7-4304eda04900>\u001b[0m in \u001b[0;36m<module>\u001b[1;34m\u001b[0m\n\u001b[0;32m     71\u001b[0m     \u001b[1;31m# Drawing the selected contour on the original image\u001b[0m\u001b[1;33m\u001b[0m\u001b[1;33m\u001b[0m\u001b[1;33m\u001b[0m\u001b[0m\n\u001b[0;32m     72\u001b[0m     \u001b[0mprint\u001b[0m\u001b[1;33m(\u001b[0m\u001b[0mNumberPlateCnt\u001b[0m\u001b[1;33m)\u001b[0m \u001b[1;31m#total number of plates in the picture and their coordinates\u001b[0m\u001b[1;33m\u001b[0m\u001b[1;33m\u001b[0m\u001b[0m\n\u001b[1;32m---> 73\u001b[1;33m     \u001b[0mcv2\u001b[0m\u001b[1;33m.\u001b[0m\u001b[0mdrawContours\u001b[0m\u001b[1;33m(\u001b[0m\u001b[0mimage\u001b[0m\u001b[1;33m,\u001b[0m \u001b[1;33m[\u001b[0m\u001b[0mNumberPlateCnt\u001b[0m\u001b[1;33m]\u001b[0m\u001b[1;33m,\u001b[0m \u001b[1;33m-\u001b[0m\u001b[1;36m1\u001b[0m\u001b[1;33m,\u001b[0m \u001b[1;33m(\u001b[0m\u001b[1;36m0\u001b[0m\u001b[1;33m,\u001b[0m\u001b[1;36m255\u001b[0m\u001b[1;33m,\u001b[0m\u001b[1;36m0\u001b[0m\u001b[1;33m)\u001b[0m\u001b[1;33m,\u001b[0m \u001b[1;36m3\u001b[0m\u001b[1;33m)\u001b[0m\u001b[1;33m\u001b[0m\u001b[1;33m\u001b[0m\u001b[0m\n\u001b[0m\u001b[0;32m     74\u001b[0m     \u001b[1;31m#cv2.imshow(\"Final Image With Number Plate Detected\", image)\u001b[0m\u001b[1;33m\u001b[0m\u001b[1;33m\u001b[0m\u001b[1;33m\u001b[0m\u001b[0m\n\u001b[0;32m     75\u001b[0m     \u001b[1;31m#cv2.waitKey(0)\u001b[0m\u001b[1;33m\u001b[0m\u001b[1;33m\u001b[0m\u001b[1;33m\u001b[0m\u001b[0m\n",
      "\u001b[1;31merror\u001b[0m: OpenCV(4.2.0) C:\\projects\\opencv-python\\opencv\\modules\\imgproc\\src\\drawing.cpp:2606: error: (-215:Assertion failed) reader.ptr != NULL in function 'cvDrawContours'\n"
     ]
    }
   ],
   "source": [
    "#for image processing\n",
    "import cv2 \n",
    "\n",
    "#for standard image re-sizing(lowers processing time)\n",
    "import imutils\n",
    "\n",
    "\n",
    "for idx in range(1,4):\n",
    "    # Read\n",
    "    image = cv2.imread('Cars/' + str(idx) + '.jpeg')\n",
    "    # Resize\n",
    "    image = imutils.resize(image, width=500) #gets it into feasible aspect ratio\n",
    "\n",
    "    #original image\n",
    "    cv2.imshow(\"Original Image\", image)\n",
    "    cv2.waitKey(0) #waits till a key is pressed\n",
    "\n",
    "    # RGB to Gray scale conversion\n",
    "    gray = cv2.cvtColor(image, cv2.COLOR_BGR2GRAY)\n",
    "    #cv2.imshow(\"1 - Grayscale Conversion\", gray)\n",
    "    #cv2.waitKey(0)\n",
    "\n",
    "    # Remove Noise, Sharpness (Averaging)\n",
    "    gray = cv2.bilateralFilter(gray, 11, 17, 17)\n",
    "    #cv2.imshow(\"2 - Bilateral Filter\", gray)\n",
    "    #cv2.waitKey(0)\n",
    "\n",
    "    # Find Edges of the grayscale image - Canny Edge Detection \n",
    "    edged = cv2.Canny(gray, 170, 200)\n",
    "    #cv2.imshow(\"3 - Canny Edges\", edged)\n",
    "    #cv2.waitKey(0)\n",
    "\n",
    "    # Find number contours based on Edges\n",
    "    cnts, new  = cv2.findContours(edged.copy(), cv2.RETR_LIST, cv2.CHAIN_APPROX_SIMPLE)\n",
    "\n",
    "    # Create copy of original image to draw all contours\n",
    "    #we create a copy so as to not destroy the original image\n",
    "    img1 = image.copy()\n",
    "    cv2.drawContours(img1, cnts, -1, (0,255,0), 3)\n",
    "    #cv2.imshow(\"4- All Contours\", img1)\n",
    "    #cv2.waitKey(0)\n",
    "\n",
    "    #sort contours based on their area keeping minimum required area as '30' (anything smaller than this will not be considered)\n",
    "    #max to min sorting\n",
    "    cnts=sorted(cnts, key = cv2.contourArea, reverse = True)[:30]\n",
    "    NumberPlateCnt = None \n",
    "\n",
    "    # Top 30 Contours\n",
    "    img2 = image.copy()\n",
    "    cv2.drawContours(img2, cnts, -1, (0,255,0), 3)\n",
    "    #cv2.imshow(\"5- Top 30 Contours\", img2)\n",
    "    #cv2.waitKey(0)\n",
    "\n",
    "    # loop over each of thr top 30 contours \n",
    "    #find the best possible approximate contour of number plate\n",
    "    \n",
    "    for c in cnts:\n",
    "            peri = cv2.arcLength(c, True) #find perimeter\n",
    "            approx = cv2.approxPolyDP(c, 0.02 * peri, True) #no. of edges for each contour\n",
    "            if len(approx) == 4:  # Select the contour with 4 corners\n",
    "                NumberPlateCnt = approx #This is our approx Number Plate Contour\n",
    "\n",
    "                #crop according to coordinates - our ROI\n",
    "                x, y, w, h = cv2.boundingRect(c) #This will find out co-ord for plate\n",
    "                new_img = gray[y:y + h, x:x + w] #crop the grayscale image\n",
    "                #cv2.imwrite('BoundedBox/' + str(idx) + '.jpg', new_img) #Store new image\n",
    "                #idx+=1\n",
    "\n",
    "                break\n",
    "\n",
    "    # Drawing the selected contour on the original image\n",
    "    print(NumberPlateCnt) #total number of plates in the picture and their coordinates\n",
    "    cv2.drawContours(image, [NumberPlateCnt], -1, (0,255,0), 3)\n",
    "    #cv2.imshow(\"Final Image With Number Plate Detected\", image)\n",
    "    #cv2.waitKey(0)\n",
    "    \n",
    "    cv2.imwrite('BoundedBox/' + str(idx) + '.jpg', image) #Store new image\n",
    "    cv2.imshow(\"Cropped Image \", new_img)\n",
    "    cv2.waitKey(0)\n",
    "    #print(idx)\n",
    "    #idx = idx + 1\n",
    "    "
   ]
  },
  {
   "cell_type": "code",
   "execution_count": null,
   "metadata": {},
   "outputs": [],
   "source": []
  }
 ],
 "metadata": {
  "kernelspec": {
   "display_name": "Python 3",
   "language": "python",
   "name": "python3"
  },
  "language_info": {
   "codemirror_mode": {
    "name": "ipython",
    "version": 3
   },
   "file_extension": ".py",
   "mimetype": "text/x-python",
   "name": "python",
   "nbconvert_exporter": "python",
   "pygments_lexer": "ipython3",
   "version": "3.7.4"
  }
 },
 "nbformat": 4,
 "nbformat_minor": 2
}
